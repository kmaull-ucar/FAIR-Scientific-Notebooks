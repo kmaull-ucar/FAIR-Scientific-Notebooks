{
 "cells": [
  {
   "cell_type": "markdown",
   "metadata": {},
   "source": [
    "# Problem\n",
    "[Zenodo](https://zenodo.org) has a number of scientific packages. Unfortunately their [API](http://developers.zenodo.org/#rest-api) is currently (April '18) only set up for deposit so it cannot be used to investigate the collection. Their [OAI-PMH] has a limit of 100 per page, so resumption tokens require a lot of clicking to get the metadata. Fortunately a majority of Zendo packages have registered DOIs with [Datacite](https://datacite.org) so we can use their [API](https://api.datacite.org/).\n",
    "\n",
    "* software\n",
    "* datasets\n",
    "* text\n",
    "* images\n",
    "* audiovisual\n",
    "* interactive\n",
    "* collection\n",
    "* other"
   ]
  },
  {
   "cell_type": "markdown",
   "metadata": {},
   "source": [
    "# How many Datacite DOIs have been registered by Zenodo since 2013?\n",
    "\n",
    "Zenodo is registered under CERN (`cern.zenodo`), we can access this metadata using (`cern.zenodo`) as the data-center-id."
   ]
  },
  {
   "cell_type": "code",
   "execution_count": 2,
   "metadata": {},
   "outputs": [],
   "source": [
    "import requests\n",
    "r = requests.get(\"https://api.datacite.org/works?data-center-id=cern.zenodo\")\n",
    "if r.status_code == 200:\n",
    "    data = r.json()"
   ]
  },
  {
   "cell_type": "markdown",
   "metadata": {},
   "source": [
    "DOIs for Zenodo packages per year:"
   ]
  },
  {
   "cell_type": "code",
   "execution_count": 3,
   "metadata": {},
   "outputs": [
    {
     "data": {
      "text/plain": [
       "[{'count': 100089, 'id': '2018', 'title': '2018'},\n",
       " {'count': 206033, 'id': '2017', 'title': '2017'},\n",
       " {'count': 82204, 'id': '2016', 'title': '2016'},\n",
       " {'count': 23015, 'id': '2015', 'title': '2015'},\n",
       " {'count': 5306, 'id': '2014', 'title': '2014'},\n",
       " {'count': 328, 'id': '2013', 'title': '2013'}]"
      ]
     },
     "execution_count": 3,
     "metadata": {},
     "output_type": "execute_result"
    }
   ],
   "source": [
    "data['meta']['registered']"
   ]
  },
  {
   "cell_type": "markdown",
   "metadata": {},
   "source": [
    "RecordsPerDay average times rest of days in the year:"
   ]
  },
  {
   "cell_type": "code",
   "execution_count": 5,
   "metadata": {},
   "outputs": [
    {
     "data": {
      "text/plain": [
       "220371"
      ]
     },
     "execution_count": 5,
     "metadata": {},
     "output_type": "execute_result"
    }
   ],
   "source": [
    "daysSoFar=114\n",
    "daysToCome=365-daysSoFar\n",
    "recordsToDate=100089\n",
    "recordsPerDay=recordsToDate/daysSoFar\n",
    "round(recordsPerDay*daysToCome)"
   ]
  },
  {
   "cell_type": "markdown",
   "metadata": {},
   "source": [
    "Looks like Zendodo is on pace to continue increasing in use year after year. "
   ]
  },
  {
   "cell_type": "markdown",
   "metadata": {},
   "source": [
    "### DATASETS"
   ]
  },
  {
   "cell_type": "code",
   "execution_count": 7,
   "metadata": {},
   "outputs": [],
   "source": [
    "r2 = requests.get(\"https://api.datacite.org/works?data-center-id=cern.zenodo&resource-type-id=dataset\")\n",
    "if r2.status_code == 200:\n",
    "    data2 = r2.json()"
   ]
  },
  {
   "cell_type": "code",
   "execution_count": 8,
   "metadata": {},
   "outputs": [
    {
     "data": {
      "text/plain": [
       "[{'count': 10562, 'id': '2018', 'title': '2018'},\n",
       " {'count': 32312, 'id': '2017', 'title': '2017'},\n",
       " {'count': 1722, 'id': '2016', 'title': '2016'},\n",
       " {'count': 1430, 'id': '2015', 'title': '2015'},\n",
       " {'count': 266, 'id': '2014', 'title': '2014'},\n",
       " {'count': 38, 'id': '2013', 'title': '2013'}]"
      ]
     },
     "execution_count": 8,
     "metadata": {},
     "output_type": "execute_result"
    }
   ],
   "source": [
    "data2['meta']['registered']"
   ]
  },
  {
   "cell_type": "markdown",
   "metadata": {},
   "source": [
    "Estimated total **dataset** DOIs for 2018: "
   ]
  },
  {
   "cell_type": "code",
   "execution_count": 9,
   "metadata": {},
   "outputs": [
    {
     "data": {
      "text/plain": [
       "23255"
      ]
     },
     "execution_count": 9,
     "metadata": {},
     "output_type": "execute_result"
    }
   ],
   "source": [
    "daysSoFar=114\n",
    "daysToCome=365-daysSoFar\n",
    "recordsToDate=10562\n",
    "recordsPerDay=recordsToDate/daysSoFar\n",
    "round(recordsPerDay*daysToCome)"
   ]
  },
  {
   "cell_type": "markdown",
   "metadata": {},
   "source": [
    "### SOFTWARE"
   ]
  },
  {
   "cell_type": "code",
   "execution_count": 10,
   "metadata": {},
   "outputs": [],
   "source": [
    "r3 = requests.get(\"https://api.datacite.org/works?data-center-id=cern.zenodo&resource-type-id=software\")\n",
    "if r3.status_code == 200:\n",
    "    data3 = r3.json()"
   ]
  },
  {
   "cell_type": "code",
   "execution_count": 11,
   "metadata": {},
   "outputs": [
    {
     "data": {
      "text/plain": [
       "[{'count': 7334, 'id': '2018', 'title': '2018'},\n",
       " {'count': 22588, 'id': '2017', 'title': '2017'},\n",
       " {'count': 8801, 'id': '2016', 'title': '2016'},\n",
       " {'count': 3918, 'id': '2015', 'title': '2015'},\n",
       " {'count': 1803, 'id': '2014', 'title': '2014'},\n",
       " {'count': 14, 'id': '2013', 'title': '2013'}]"
      ]
     },
     "execution_count": 11,
     "metadata": {},
     "output_type": "execute_result"
    }
   ],
   "source": [
    "data3['meta']['registered']"
   ]
  },
  {
   "cell_type": "markdown",
   "metadata": {},
   "source": [
    "Estimated total **software** DOIs for 2018:"
   ]
  },
  {
   "cell_type": "code",
   "execution_count": 12,
   "metadata": {},
   "outputs": [
    {
     "data": {
      "text/plain": [
       "17452"
      ]
     },
     "execution_count": 12,
     "metadata": {},
     "output_type": "execute_result"
    }
   ],
   "source": [
    "daysSoFar=108\n",
    "daysToCome=365-daysSoFar\n",
    "recordsToDate=7334\n",
    "recordsPerDay=recordsToDate/daysSoFar\n",
    "round(recordsPerDay*daysToCome)"
   ]
  },
  {
   "cell_type": "markdown",
   "metadata": {},
   "source": [
    "## HOW MANY SOFTWARE OR DATASET RECORDS HAVE JUPYTER IN THE DESCRIPTION OR TITLE?\n",
    "\n",
    "Let's practice with 500 of each for a total of **1000** DOIs from the first month of 2018:"
   ]
  },
  {
   "cell_type": "code",
   "execution_count": 61,
   "metadata": {},
   "outputs": [],
   "source": [
    "r4 = requests.get(\"https://api.datacite.org/works?data-center-id=cern.zenodo&resource-type-id=software&from-created-date=2018-01-01&until-created-date=2018-02-01&page[size]=1000\")\n",
    "if r4.status_code == 200:\n",
    "    data4 = r4.json()   "
   ]
  },
  {
   "cell_type": "code",
   "execution_count": 62,
   "metadata": {
    "scrolled": true
   },
   "outputs": [
    {
     "data": {
      "text/plain": [
       "1000"
      ]
     },
     "execution_count": 62,
     "metadata": {},
     "output_type": "execute_result"
    }
   ],
   "source": [
    "len(data4['data'])"
   ]
  },
  {
   "cell_type": "code",
   "execution_count": 63,
   "metadata": {},
   "outputs": [],
   "source": [
    "r5 = requests.get(\"https://api.datacite.org/works?data-center-id=cern.zenodo&resource-type-id=dataset&from-created-date=2018-01-01&until-created-date=2018-02-01&page[size]=1000\")\n",
    "if r5.status_code == 200:\n",
    "    data5 = r5.json() "
   ]
  },
  {
   "cell_type": "code",
   "execution_count": 64,
   "metadata": {},
   "outputs": [
    {
     "data": {
      "text/plain": [
       "857"
      ]
     },
     "execution_count": 64,
     "metadata": {},
     "output_type": "execute_result"
    }
   ],
   "source": [
    "len(data5['data'])"
   ]
  },
  {
   "cell_type": "code",
   "execution_count": 79,
   "metadata": {},
   "outputs": [],
   "source": [
    "jupyter_count = 0\n",
    "for d in data4['data']:\n",
    "    if 'jupyter' in d['attributes']['description'].lower() or \\\n",
    "       'jupyter' in d['attributes']['title'].lower():\n",
    "        #print(\"{}\\n\\t{}\".format(d['attributes']['title'], \n",
    "        #                        d['attributes']['description']))\n",
    "            jupyter_count+=1\n",
    "for d in data5['data']:\n",
    "    if 'jupyter' in d['attributes']['description'].lower() or \\\n",
    "       'jupyter' in d['attributes']['title'].lower():\n",
    "            jupyter_count+=1"
   ]
  },
  {
   "cell_type": "code",
   "execution_count": 80,
   "metadata": {},
   "outputs": [
    {
     "name": "stdout",
     "output_type": "stream",
     "text": [
      "13\n"
     ]
    }
   ],
   "source": [
    "print(jupyter_count)"
   ]
  },
  {
   "cell_type": "markdown",
   "metadata": {},
   "source": [
    "### EXTRACTING GITHUB URLS\n",
    "\n",
    "Datacite JSON metadata does not include the URL of the Github repo for the software DOI.  This critical information provides the _backlink_ to the actual software repository being cited, but this mystery is solved by decoding the xml associated with every datacite JSON payload.  In it is the XML of the original Zenodo metadata which **does** include the repo URL.  Here is an example extraction of that metadata:"
   ]
  },
  {
   "cell_type": "code",
   "execution_count": 83,
   "metadata": {},
   "outputs": [],
   "source": [
    "def get_gh_urls(xml_md):\n",
    "    import base64\n",
    "    from lxml import etree\n",
    "\n",
    "    xml_md_root = etree.fromstring(xml_md)\n",
    "    urls = xml_md_root.xpath('//dcite:relatedIdentifiers/dcite:relatedIdentifier[@relationType=\"IsSupplementTo\" and @relatedIdentifierType=\"URL\"]/text()', \n",
    "                      namespaces={'dcite': 'http://datacite.org/schema/kernel-3'})\n",
    "    \n",
    "    return [u for u in urls if 'github' in u]"
   ]
  },
  {
   "cell_type": "code",
   "execution_count": 95,
   "metadata": {},
   "outputs": [
    {
     "data": {
      "text/plain": [
       "['https://github.com/miykael/LINEViewer/tree/0.2.2']"
      ]
     },
     "execution_count": 95,
     "metadata": {},
     "output_type": "execute_result"
    }
   ],
   "source": [
    "import base64\n",
    "get_gh_urls(base64.b64decode(data4['data'][50]['attributes']['xml']))"
   ]
  },
  {
   "cell_type": "code",
   "execution_count": 86,
   "metadata": {},
   "outputs": [],
   "source": [
    "import base64\n",
    "\n",
    "doi_gh_map = {}\n",
    "for d in data4['data']:\n",
    "    doi_gh_map[d['attributes']['doi']] = get_gh_urls(base64.b64decode(d['attributes']['xml']))"
   ]
  },
  {
   "cell_type": "markdown",
   "metadata": {},
   "source": [
    "### HOW MANY OF THE 1000 SOFTWARE URLS **DO NOT** HAVE GITHUB REPOS IN THE METADATA?"
   ]
  },
  {
   "cell_type": "code",
   "execution_count": 87,
   "metadata": {},
   "outputs": [
    {
     "data": {
      "text/plain": [
       "1000"
      ]
     },
     "execution_count": 87,
     "metadata": {},
     "output_type": "execute_result"
    }
   ],
   "source": [
    "len(doi_gh_map)"
   ]
  },
  {
   "cell_type": "code",
   "execution_count": 88,
   "metadata": {},
   "outputs": [
    {
     "data": {
      "text/plain": [
       "132"
      ]
     },
     "execution_count": 88,
     "metadata": {},
     "output_type": "execute_result"
    }
   ],
   "source": [
    "len([gh_list for gh_list in doi_gh_map.values() if not gh_list])"
   ]
  },
  {
   "cell_type": "markdown",
   "metadata": {},
   "source": [
    "### REPEATS?"
   ]
  },
  {
   "cell_type": "code",
   "execution_count": 90,
   "metadata": {},
   "outputs": [
    {
     "data": {
      "text/plain": [
       "256"
      ]
     },
     "execution_count": 90,
     "metadata": {},
     "output_type": "execute_result"
    }
   ],
   "source": [
    "1000-132-len(set([gh_list[0] for gh_list in doi_gh_map.values() if gh_list]))"
   ]
  },
  {
   "cell_type": "markdown",
   "metadata": {},
   "source": [
    "### NUMBER OF UNIQUE GH URLS IN THE 1000 DOIS?"
   ]
  },
  {
   "cell_type": "code",
   "execution_count": 91,
   "metadata": {},
   "outputs": [
    {
     "data": {
      "text/plain": [
       "612"
      ]
     },
     "execution_count": 91,
     "metadata": {},
     "output_type": "execute_result"
    }
   ],
   "source": [
    "1000-131-257"
   ]
  },
  {
   "cell_type": "code",
   "execution_count": null,
   "metadata": {},
   "outputs": [],
   "source": []
  }
 ],
 "metadata": {
  "kernelspec": {
   "display_name": "Python 3",
   "language": "python",
   "name": "python3"
  },
  "language_info": {
   "codemirror_mode": {
    "name": "ipython",
    "version": 3
   },
   "file_extension": ".py",
   "mimetype": "text/x-python",
   "name": "python",
   "nbconvert_exporter": "python",
   "pygments_lexer": "ipython3",
   "version": "3.6.4"
  },
  "toc": {
   "colors": {
    "hover_highlight": "#DAA520",
    "navigate_num": "#000000",
    "navigate_text": "#333333",
    "running_highlight": "#FF0000",
    "selected_highlight": "#FFD700",
    "sidebar_border": "#EEEEEE",
    "wrapper_background": "#FFFFFF"
   },
   "moveMenuLeft": true,
   "nav_menu": {
    "height": "139px",
    "width": "252px"
   },
   "navigate_menu": true,
   "number_sections": false,
   "sideBar": true,
   "threshold": 4,
   "toc_cell": false,
   "toc_section_display": "block",
   "toc_window_display": false,
   "widenNotebook": false
  }
 },
 "nbformat": 4,
 "nbformat_minor": 2
}
